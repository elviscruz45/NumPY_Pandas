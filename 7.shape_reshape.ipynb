{
 "cells": [
  {
   "cell_type": "code",
   "execution_count": 1,
   "metadata": {},
   "outputs": [],
   "source": [
    "import numpy as np"
   ]
  },
  {
   "cell_type": "code",
   "execution_count": 6,
   "metadata": {},
   "outputs": [
    {
     "data": {
      "text/plain": [
       "array([[1, 8, 1, 9, 9, 2, 3, 5, 5, 3],\n",
       "       [5, 4, 5, 9, 1, 3, 5, 6, 7, 6],\n",
       "       [2, 1, 1, 7, 6, 5, 5, 5, 1, 5],\n",
       "       [3, 2, 4, 2, 2, 6, 7, 4, 7, 3],\n",
       "       [5, 7, 5, 8, 6, 4, 4, 3, 4, 6],\n",
       "       [9, 8, 5, 6, 5, 3, 7, 3, 5, 9],\n",
       "       [6, 2, 4, 9, 6, 4, 2, 5, 4, 6],\n",
       "       [7, 2, 5, 8, 6, 3, 4, 3, 2, 1],\n",
       "       [7, 2, 5, 4, 3, 6, 3, 3, 3, 7],\n",
       "       [4, 9, 4, 8, 2, 2, 4, 1, 2, 2],\n",
       "       [2, 1, 1, 1, 1, 6, 4, 2, 4, 7],\n",
       "       [9, 7, 6, 4, 3, 4, 1, 5, 3, 8],\n",
       "       [7, 1, 6, 1, 3, 3, 4, 2, 9, 4]])"
      ]
     },
     "execution_count": 6,
     "metadata": {},
     "output_type": "execute_result"
    }
   ],
   "source": [
    "arr=np.random.randint(1,10,(13,10))\n",
    "arr"
   ]
  },
  {
   "cell_type": "code",
   "execution_count": 7,
   "metadata": {},
   "outputs": [
    {
     "data": {
      "text/plain": [
       "(13, 10)"
      ]
     },
     "execution_count": 7,
     "metadata": {},
     "output_type": "execute_result"
    }
   ],
   "source": [
    "arr.shape"
   ]
  },
  {
   "cell_type": "code",
   "execution_count": 9,
   "metadata": {},
   "outputs": [
    {
     "data": {
      "text/plain": [
       "array([[1, 8, 1, 9, 9, 2, 3, 5, 5, 3, 5, 4, 5],\n",
       "       [9, 1, 3, 5, 6, 7, 6, 2, 1, 1, 7, 6, 5],\n",
       "       [5, 5, 1, 5, 3, 2, 4, 2, 2, 6, 7, 4, 7],\n",
       "       [3, 5, 7, 5, 8, 6, 4, 4, 3, 4, 6, 9, 8],\n",
       "       [5, 6, 5, 3, 7, 3, 5, 9, 6, 2, 4, 9, 6],\n",
       "       [4, 2, 5, 4, 6, 7, 2, 5, 8, 6, 3, 4, 3],\n",
       "       [2, 1, 7, 2, 5, 4, 3, 6, 3, 3, 3, 7, 4],\n",
       "       [9, 4, 8, 2, 2, 4, 1, 2, 2, 2, 1, 1, 1],\n",
       "       [1, 6, 4, 2, 4, 7, 9, 7, 6, 4, 3, 4, 1],\n",
       "       [5, 3, 8, 7, 1, 6, 1, 3, 3, 4, 2, 9, 4]])"
      ]
     },
     "execution_count": 9,
     "metadata": {},
     "output_type": "execute_result"
    }
   ],
   "source": [
    "arr.reshape(10,13)"
   ]
  },
  {
   "cell_type": "code",
   "execution_count": 12,
   "metadata": {},
   "outputs": [
    {
     "data": {
      "text/plain": [
       "array([[8, 6, 9],\n",
       "       [8, 5, 9],\n",
       "       [9, 6, 6],\n",
       "       [4, 8, 8]])"
      ]
     },
     "execution_count": 12,
     "metadata": {},
     "output_type": "execute_result"
    }
   ],
   "source": [
    "arr2=np.random.randint(1,10,(4,3))\n",
    "arr2"
   ]
  },
  {
   "cell_type": "code",
   "execution_count": 13,
   "metadata": {},
   "outputs": [
    {
     "data": {
      "text/plain": [
       "array([[8, 6, 9, 8],\n",
       "       [5, 9, 9, 6],\n",
       "       [6, 4, 8, 8]])"
      ]
     },
     "execution_count": 13,
     "metadata": {},
     "output_type": "execute_result"
    }
   ],
   "source": [
    "arr2.reshape(3,4)"
   ]
  },
  {
   "cell_type": "code",
   "execution_count": 14,
   "metadata": {},
   "outputs": [
    {
     "data": {
      "text/plain": [
       "array([[8, 6, 9],\n",
       "       [8, 5, 9],\n",
       "       [9, 6, 6],\n",
       "       [4, 8, 8]])"
      ]
     },
     "execution_count": 14,
     "metadata": {},
     "output_type": "execute_result"
    }
   ],
   "source": [
    "np.reshape(arr2,(4,3))"
   ]
  },
  {
   "cell_type": "code",
   "execution_count": 15,
   "metadata": {},
   "outputs": [
    {
     "data": {
      "text/plain": [
       "array([[8, 6, 9],\n",
       "       [8, 5, 9],\n",
       "       [9, 6, 6],\n",
       "       [4, 8, 8]])"
      ]
     },
     "execution_count": 15,
     "metadata": {},
     "output_type": "execute_result"
    }
   ],
   "source": [
    "np.reshape(arr2,(4,3),\"c\")"
   ]
  },
  {
   "cell_type": "code",
   "execution_count": 16,
   "metadata": {},
   "outputs": [
    {
     "data": {
      "text/plain": [
       "array([[8, 6, 9],\n",
       "       [8, 5, 9],\n",
       "       [9, 6, 6],\n",
       "       [4, 8, 8]])"
      ]
     },
     "execution_count": 16,
     "metadata": {},
     "output_type": "execute_result"
    }
   ],
   "source": [
    "np.reshape(arr2,(4,3),\"f\")"
   ]
  },
  {
   "cell_type": "code",
   "execution_count": 17,
   "metadata": {},
   "outputs": [
    {
     "data": {
      "text/plain": [
       "array([[8, 6, 9],\n",
       "       [8, 5, 9],\n",
       "       [9, 6, 6],\n",
       "       [4, 8, 8]])"
      ]
     },
     "execution_count": 17,
     "metadata": {},
     "output_type": "execute_result"
    }
   ],
   "source": [
    "np.reshape(arr2,(4,3),\"a\")"
   ]
  },
  {
   "cell_type": "code",
   "execution_count": 18,
   "metadata": {},
   "outputs": [
    {
     "data": {
      "text/plain": [
       "array([[8, 6, 9],\n",
       "       [8, 5, 9],\n",
       "       [9, 6, 6],\n",
       "       [4, 8, 8]])"
      ]
     },
     "execution_count": 18,
     "metadata": {},
     "output_type": "execute_result"
    }
   ],
   "source": [
    "arr2"
   ]
  },
  {
   "cell_type": "code",
   "execution_count": 19,
   "metadata": {},
   "outputs": [
    {
     "data": {
      "text/plain": [
       "array([[8, 6, 9, 8],\n",
       "       [5, 9, 9, 6],\n",
       "       [6, 4, 8, 8]])"
      ]
     },
     "execution_count": 19,
     "metadata": {},
     "output_type": "execute_result"
    }
   ],
   "source": [
    "np.reshape(arr2,(3,4),\"c\")"
   ]
  }
 ],
 "metadata": {
  "kernelspec": {
   "display_name": "Python 3.9.6 64-bit",
   "language": "python",
   "name": "python3"
  },
  "language_info": {
   "codemirror_mode": {
    "name": "ipython",
    "version": 3
   },
   "file_extension": ".py",
   "mimetype": "text/x-python",
   "name": "python",
   "nbconvert_exporter": "python",
   "pygments_lexer": "ipython3",
   "version": "3.9.6"
  },
  "orig_nbformat": 4,
  "vscode": {
   "interpreter": {
    "hash": "aee8b7b246df8f9039afb4144a1f6fd8d2ca17a180786b69acc140d282b71a49"
   }
  }
 },
 "nbformat": 4,
 "nbformat_minor": 2
}
